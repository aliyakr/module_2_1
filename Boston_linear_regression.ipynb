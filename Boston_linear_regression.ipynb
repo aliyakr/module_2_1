{
 "cells": [
  {
   "cell_type": "markdown",
   "metadata": {},
   "source": [
    "# Модуль 2. Занятие 1. Сравнение линейных моделей и градиентного спуска в машинном обучении"
   ]
  },
  {
   "cell_type": "markdown",
   "metadata": {},
   "source": [
    "Набор данных California Housing включает информацию о жилищных условиях в Калифорнии, собранную на основе переписи США 1990 года. Каждый ряд представляет данные для одного района и включает различные признаки, которые могут помочь предсказать стоимость жилья. Вот описание столбцов:\n",
    "\n",
    "- MedInc: Средний доход домохозяйства в районе (в десятках тысяч долларов).\n",
    "- HouseAge: Средний возраст домов в районе.\n",
    "- AveRooms: Среднее количество комнат на домохозяйство.\n",
    "- AveBedrms: Среднее количество спален на домохозяйство.\n",
    "- Population: Численность населения в районе.\n",
    "- AveOccup: Среднее количество жильцов на дом.\n",
    "- Latitude: Широта района.\n",
    "- Longitude: Долгота района.\n",
    "- MedHouseVal (целевая переменная): Средняя стоимость жилья в районе (в сотнях тысяч долларов).\n",
    "\n",
    "\n",
    "\n",
    "\n",
    "\n",
    "\n",
    "\n",
    "\n",
    "\n",
    "\n",
    "\n"
   ]
  },
  {
   "cell_type": "markdown",
   "metadata": {},
   "source": [
    "Цель работы с этим набором данных заключается в предсказании средней стоимости жилья (MedHouseVal) на основе других признаков, чтобы выявить факторы, влияющие на цены недвижимости в Калифорнии.\n"
   ]
  },
  {
   "cell_type": "markdown",
   "metadata": {},
   "source": [
    "Набор данных разбит на два для этого анализа: один для обучения (70% образцов) и один для тестирования (30% образцов). После разработки модели на основе данных обучения ее производительность будет проверяться на данных тестирования. Три модели будут сравниваться после их установки:\n",
    "1. a linear model using all variables\n",
    "2. a linear model after variable selection\n",
    "3. a Gradient Boosting Machine (GBM) model"
   ]
  },
  {
   "cell_type": "markdown",
   "metadata": {},
   "source": [
    "## Этап 1. Подготовка данных"
   ]
  },
  {
   "cell_type": "markdown",
   "metadata": {},
   "source": [
    "Импортируем данные из библиотеки sklearn (встроенный датасет). Параметр as_frame при импорте позволяет нам взглянуть на данные в привычном нам формате датафрейма. Сразу разделим данные на признаки и таргет."
   ]
  },
  {
   "cell_type": "code",
   "execution_count": 123,
   "metadata": {
    "colab": {
     "base_uri": "https://localhost:8080/"
    },
    "id": "IagME5lVQfTi",
    "outputId": "7eaf26e7-fd80-4d36-f214-1043b7a6f982"
   },
   "outputs": [],
   "source": [
    "from sklearn.datasets import fetch_california_housing\n",
    "housing = fetch_california_housing(as_frame=True)\n",
    "X = housing.data\n",
    "y = housing.target\n",
    "\n"
   ]
  },
  {
   "cell_type": "code",
   "execution_count": 121,
   "metadata": {
    "scrolled": true
   },
   "outputs": [
    {
     "data": {
      "text/html": [
       "<div>\n",
       "<style scoped>\n",
       "    .dataframe tbody tr th:only-of-type {\n",
       "        vertical-align: middle;\n",
       "    }\n",
       "\n",
       "    .dataframe tbody tr th {\n",
       "        vertical-align: top;\n",
       "    }\n",
       "\n",
       "    .dataframe thead th {\n",
       "        text-align: right;\n",
       "    }\n",
       "</style>\n",
       "<table border=\"1\" class=\"dataframe\">\n",
       "  <thead>\n",
       "    <tr style=\"text-align: right;\">\n",
       "      <th></th>\n",
       "      <th>MedInc</th>\n",
       "      <th>HouseAge</th>\n",
       "      <th>AveRooms</th>\n",
       "      <th>AveBedrms</th>\n",
       "      <th>Population</th>\n",
       "      <th>AveOccup</th>\n",
       "      <th>Latitude</th>\n",
       "      <th>Longitude</th>\n",
       "      <th>MedHouseVal</th>\n",
       "    </tr>\n",
       "  </thead>\n",
       "  <tbody>\n",
       "    <tr>\n",
       "      <th>0</th>\n",
       "      <td>8.3252</td>\n",
       "      <td>41.0</td>\n",
       "      <td>6.984127</td>\n",
       "      <td>1.023810</td>\n",
       "      <td>322.0</td>\n",
       "      <td>2.555556</td>\n",
       "      <td>37.88</td>\n",
       "      <td>-122.23</td>\n",
       "      <td>4.526</td>\n",
       "    </tr>\n",
       "    <tr>\n",
       "      <th>1</th>\n",
       "      <td>8.3014</td>\n",
       "      <td>21.0</td>\n",
       "      <td>6.238137</td>\n",
       "      <td>0.971880</td>\n",
       "      <td>2401.0</td>\n",
       "      <td>2.109842</td>\n",
       "      <td>37.86</td>\n",
       "      <td>-122.22</td>\n",
       "      <td>3.585</td>\n",
       "    </tr>\n",
       "    <tr>\n",
       "      <th>2</th>\n",
       "      <td>7.2574</td>\n",
       "      <td>52.0</td>\n",
       "      <td>8.288136</td>\n",
       "      <td>1.073446</td>\n",
       "      <td>496.0</td>\n",
       "      <td>2.802260</td>\n",
       "      <td>37.85</td>\n",
       "      <td>-122.24</td>\n",
       "      <td>3.521</td>\n",
       "    </tr>\n",
       "    <tr>\n",
       "      <th>3</th>\n",
       "      <td>5.6431</td>\n",
       "      <td>52.0</td>\n",
       "      <td>5.817352</td>\n",
       "      <td>1.073059</td>\n",
       "      <td>558.0</td>\n",
       "      <td>2.547945</td>\n",
       "      <td>37.85</td>\n",
       "      <td>-122.25</td>\n",
       "      <td>3.413</td>\n",
       "    </tr>\n",
       "    <tr>\n",
       "      <th>4</th>\n",
       "      <td>3.8462</td>\n",
       "      <td>52.0</td>\n",
       "      <td>6.281853</td>\n",
       "      <td>1.081081</td>\n",
       "      <td>565.0</td>\n",
       "      <td>2.181467</td>\n",
       "      <td>37.85</td>\n",
       "      <td>-122.25</td>\n",
       "      <td>3.422</td>\n",
       "    </tr>\n",
       "    <tr>\n",
       "      <th>...</th>\n",
       "      <td>...</td>\n",
       "      <td>...</td>\n",
       "      <td>...</td>\n",
       "      <td>...</td>\n",
       "      <td>...</td>\n",
       "      <td>...</td>\n",
       "      <td>...</td>\n",
       "      <td>...</td>\n",
       "      <td>...</td>\n",
       "    </tr>\n",
       "    <tr>\n",
       "      <th>20635</th>\n",
       "      <td>1.5603</td>\n",
       "      <td>25.0</td>\n",
       "      <td>5.045455</td>\n",
       "      <td>1.133333</td>\n",
       "      <td>845.0</td>\n",
       "      <td>2.560606</td>\n",
       "      <td>39.48</td>\n",
       "      <td>-121.09</td>\n",
       "      <td>0.781</td>\n",
       "    </tr>\n",
       "    <tr>\n",
       "      <th>20636</th>\n",
       "      <td>2.5568</td>\n",
       "      <td>18.0</td>\n",
       "      <td>6.114035</td>\n",
       "      <td>1.315789</td>\n",
       "      <td>356.0</td>\n",
       "      <td>3.122807</td>\n",
       "      <td>39.49</td>\n",
       "      <td>-121.21</td>\n",
       "      <td>0.771</td>\n",
       "    </tr>\n",
       "    <tr>\n",
       "      <th>20637</th>\n",
       "      <td>1.7000</td>\n",
       "      <td>17.0</td>\n",
       "      <td>5.205543</td>\n",
       "      <td>1.120092</td>\n",
       "      <td>1007.0</td>\n",
       "      <td>2.325635</td>\n",
       "      <td>39.43</td>\n",
       "      <td>-121.22</td>\n",
       "      <td>0.923</td>\n",
       "    </tr>\n",
       "    <tr>\n",
       "      <th>20638</th>\n",
       "      <td>1.8672</td>\n",
       "      <td>18.0</td>\n",
       "      <td>5.329513</td>\n",
       "      <td>1.171920</td>\n",
       "      <td>741.0</td>\n",
       "      <td>2.123209</td>\n",
       "      <td>39.43</td>\n",
       "      <td>-121.32</td>\n",
       "      <td>0.847</td>\n",
       "    </tr>\n",
       "    <tr>\n",
       "      <th>20639</th>\n",
       "      <td>2.3886</td>\n",
       "      <td>16.0</td>\n",
       "      <td>5.254717</td>\n",
       "      <td>1.162264</td>\n",
       "      <td>1387.0</td>\n",
       "      <td>2.616981</td>\n",
       "      <td>39.37</td>\n",
       "      <td>-121.24</td>\n",
       "      <td>0.894</td>\n",
       "    </tr>\n",
       "  </tbody>\n",
       "</table>\n",
       "<p>20640 rows × 9 columns</p>\n",
       "</div>"
      ],
      "text/plain": [
       "       MedInc  HouseAge  AveRooms  AveBedrms  Population  AveOccup  Latitude  \\\n",
       "0      8.3252      41.0  6.984127   1.023810       322.0  2.555556     37.88   \n",
       "1      8.3014      21.0  6.238137   0.971880      2401.0  2.109842     37.86   \n",
       "2      7.2574      52.0  8.288136   1.073446       496.0  2.802260     37.85   \n",
       "3      5.6431      52.0  5.817352   1.073059       558.0  2.547945     37.85   \n",
       "4      3.8462      52.0  6.281853   1.081081       565.0  2.181467     37.85   \n",
       "...       ...       ...       ...        ...         ...       ...       ...   \n",
       "20635  1.5603      25.0  5.045455   1.133333       845.0  2.560606     39.48   \n",
       "20636  2.5568      18.0  6.114035   1.315789       356.0  3.122807     39.49   \n",
       "20637  1.7000      17.0  5.205543   1.120092      1007.0  2.325635     39.43   \n",
       "20638  1.8672      18.0  5.329513   1.171920       741.0  2.123209     39.43   \n",
       "20639  2.3886      16.0  5.254717   1.162264      1387.0  2.616981     39.37   \n",
       "\n",
       "       Longitude  MedHouseVal  \n",
       "0        -122.23        4.526  \n",
       "1        -122.22        3.585  \n",
       "2        -122.24        3.521  \n",
       "3        -122.25        3.413  \n",
       "4        -122.25        3.422  \n",
       "...          ...          ...  \n",
       "20635    -121.09        0.781  \n",
       "20636    -121.21        0.771  \n",
       "20637    -121.22        0.923  \n",
       "20638    -121.32        0.847  \n",
       "20639    -121.24        0.894  \n",
       "\n",
       "[20640 rows x 9 columns]"
      ]
     },
     "execution_count": 121,
     "metadata": {},
     "output_type": "execute_result"
    }
   ],
   "source": [
    "housing.frame"
   ]
  },
  {
   "cell_type": "markdown",
   "metadata": {},
   "source": [
    "### Деление данных на тренировочные и тестовые наборы"
   ]
  },
  {
   "cell_type": "markdown",
   "metadata": {},
   "source": [
    "Немного теории:"
   ]
  },
  {
   "cell_type": "markdown",
   "metadata": {},
   "source": [
    "Деление данных на тренировочный и тестовый наборы — это один из ключевых шагов в процессе обучения моделей машинного обучения. Цель такого деления — обеспечить, чтобы модель могла быть проверена на данных, которые она не видела во время обучения, для оценки её обобщающей способности. Основные способы деления данных:\n",
    "\n",
    "1. Простое деление (Holdout) <br>\n",
    "\n",
    "Самый простой способ — случайное деление данных на две части: тренировочную и тестовую. Обычно берут 70–80% данных для тренировки и 20–30% для тестирования. Этот способ прост и подходит для больших датасетов, но его недостаток в том, что оценка модели может быть нестабильной, если выборка небольшая или случайное деление сильно повлияло на данные.<br>\n",
    "\n",
    "2. Кросс-валидация (Cross-Validation)<br>\n",
    "\n",
    "Кросс-валидация улучшает оценку, разбивая данные на k частей (фолдов), и каждый фолд по очереди используется как тестовый, а остальные k−1 — как тренировочные. Наиболее распространённый вариант — это 5-кратная (k=5) или 10-кратная (k=10) кросс-валидация. Средний результат по всем фолдам считается общей оценкой модели. Это позволяет уменьшить зависимость от случайного деления и даёт более стабильные результаты.<br>\n",
    "\n",
    "3. Стратифицированное деление (Stratified Split)<br>\n",
    "\n",
    "Стратифицированное деление учитывает распределение классов в данных. Это важно в задачах классификации, где может быть перекос классов. При стратифицированной кросс-валидации или стратифицированном простом делении каждый фолд или набор данных содержит пропорциональное количество экземпляров каждого класса. Это уменьшает вероятность получения смещённых оценок.<br>\n",
    "\n",
    "4. Временное деление (Time Series Split)<br>\n",
    "\n",
    "Для временных рядов и последовательных данных используется временное деление. В таких данных нельзя делать случайное деление, поскольку это нарушает временную структуру. В этом методе данные делятся на основе времени, например, первые 80% данных используются для тренировки, а последние 20% — для теста. Также существует кросс-валидация для временных рядов, при которой каждый раз данные делятся на основе временных последовательностей (например, rolling windows).<br>\n",
    "\n",
    "5. Leave-One-Out Cross-Validation (LOO CV)<br>\n",
    "\n",
    "Это особый случай кросс-валидации, когда каждый экземпляр данных по очереди используется как тестовый набор, а остальные — как тренировочный. Этот метод используется для небольших датасетов, так как он очень затратный по времени, но может дать точные оценки для маленьких наборов данных.<br>\n",
    "\n",
    "6. Shuffle Split<br>\n",
    "\n",
    "В Shuffle Split данные многократно перемешиваются и делятся на тренировочную и тестовую выборки, подобно кросс-валидации, но без деления на фолды. Он используется, когда требуется несколько случайных разбиений без сложной структуры кросс-валидации."
   ]
  },
  {
   "cell_type": "markdown",
   "metadata": {},
   "source": [
    "<b>В Python для разделения данных на тренировочный и тестовый наборы используются популярные методы из библиотек scikit-learn и pandas.</b>"
   ]
  },
  {
   "cell_type": "markdown",
   "metadata": {},
   "source": [
    "**`train_test_split`**— основной и простой в использовании метод для случайного деления данных. Он позволяет указать долю данных, которая пойдёт в тестовый набор, и опцию стратификации для сохранения пропорций классов в данных."
   ]
  },
  {
   "cell_type": "markdown",
   "metadata": {},
   "source": [
    "Здесь test_size задает долю для тестирования (аналогично можно задать train_size), a random_state=42 фиксирует случайное разделение для воспроизводимости (т.е. разделение будет фиксированным при каждом запуске кода). Число 42 стало популярным благодаря книге Дугласа Адамса «Автостопом по галактике», где оно фигурирует как «ответ на главный вопрос жизни, Вселенной и всего такого». В итоге, random_state=42 стало полушуточным стандартом среди программистов, хотя любое другое число могло бы подойти для этой цели."
   ]
  },
  {
   "cell_type": "code",
   "execution_count": 125,
   "metadata": {},
   "outputs": [],
   "source": [
    "from sklearn.model_selection import train_test_split\n",
    "\n",
    "# Делим данные на 80% тренировочных и 20% тестовых\n",
    "X_train, X_test, y_train, y_test = train_test_split(X, y, test_size=0.2, random_state=42)"
   ]
  },
  {
   "cell_type": "markdown",
   "metadata": {},
   "source": [
    "**`KFold`** реализует классический метод кросс-валидации. Он разбивает данные на k фолдов (частей), и каждый фолд поочередно используется как тестовый набор, а остальные k-1 фолдов — как тренировочный."
   ]
  },
  {
   "cell_type": "markdown",
   "metadata": {},
   "source": [
    "- n_splits: Количество фолдов. Обычно используются значения 5 или 10.\n",
    "- shuffle: Опция перемешивания данных перед разбиением, что полезно для случайных выборок из упорядоченных данных.\n",
    "- random_state: Обеспечивает воспроизводимость при включённом перемешивании"
   ]
  },
  {
   "cell_type": "markdown",
   "metadata": {},
   "source": [
    "<b>Когда использовать:</b>\n",
    "Подходит для задач с большим количеством данных, когда важно оценить модель на разных разбиениях. Обеспечивает надёжную оценку и помогает избежать переобучения на тренировочном наборе."
   ]
  },
  {
   "cell_type": "code",
   "execution_count": null,
   "metadata": {},
   "outputs": [],
   "source": [
    "from sklearn.model_selection import KFold\n",
    "\n",
    "kf = KFold(n_splits=5, shuffle=True, random_state=42)\n",
    "for train_index, test_index in kf.split(X):\n",
    "    X_train, X_test = X[train_index], X[test_index]\n",
    "    y_train, y_test = y[train_index], y[test_index]\n"
   ]
  },
  {
   "cell_type": "markdown",
   "metadata": {},
   "source": [
    "**`StratifiedKFold`** — это версия KFold, которая сохраняет пропорции классов в каждом фолде. Полезен для задач классификации с несбалансированными классами."
   ]
  },
  {
   "cell_type": "markdown",
   "metadata": {},
   "source": [
    "<b>Когда использовать:</b>\n",
    "Эффективен для задач классификации с несбалансированными данными, так как обеспечивает равномерное распределение классов в каждом фолде."
   ]
  },
  {
   "cell_type": "code",
   "execution_count": null,
   "metadata": {},
   "outputs": [],
   "source": [
    "from sklearn.model_selection import StratifiedKFold\n",
    "\n",
    "skf = StratifiedKFold(n_splits=5, shuffle=True, random_state=42)\n",
    "for train_index, test_index in skf.split(X, y):\n",
    "    X_train, X_test = X[train_index], X[test_index]\n",
    "    y_train, y_test = y[train_index], y[test_index]\n"
   ]
  },
  {
   "cell_type": "markdown",
   "metadata": {},
   "source": [
    "**`TimeSeriesSplit`** подходит для данных временных рядов, где последовательность важна. Вместо случайного разбиения каждый новый фолд использует предыдущие данные, что соответствует реальной последовательности событий во времени."
   ]
  },
  {
   "cell_type": "code",
   "execution_count": null,
   "metadata": {},
   "outputs": [],
   "source": [
    "from sklearn.model_selection import TimeSeriesSplit\n",
    "\n",
    "tscv = TimeSeriesSplit(n_splits=5)\n",
    "for train_index, test_index in tscv.split(X):\n",
    "    X_train, X_test = X[train_index], X[test_index]\n",
    "    y_train, y_test = y[train_index], y[test_index]\n"
   ]
  },
  {
   "cell_type": "markdown",
   "metadata": {},
   "source": [
    "**`ShuffleSplit`** создаёт несколько случайных разбиений, где данные каждый раз случайно перемешиваются и делятся на тренировочную и тестовую выборки. В отличие от KFold, тут нет строго структурированных фолдов."
   ]
  },
  {
   "cell_type": "markdown",
   "metadata": {},
   "source": [
    "<b>Когда использовать:</b>\n",
    "Подходит для задач, где нужно несколько случайных разбиений для более надёжной оценки модели, но где не требуется полноценная кросс-валидация."
   ]
  },
  {
   "cell_type": "code",
   "execution_count": null,
   "metadata": {},
   "outputs": [],
   "source": [
    "from sklearn.model_selection import ShuffleSplit\n",
    "\n",
    "ss = ShuffleSplit(n_splits=5, test_size=0.2, random_state=42)\n",
    "for train_index, test_index in ss.split(X):\n",
    "    X_train, X_test = X[train_index], X[test_index]\n",
    "    y_train, y_test = y[train_index], y[test_index]\n"
   ]
  },
  {
   "cell_type": "markdown",
   "metadata": {},
   "source": [
    "Разделим наши данные на тренировочный и тестовый датасеты в соотношении 70 на 30. Для этого используется встроенная в sklearn функция train_test_split. "
   ]
  },
  {
   "cell_type": "code",
   "execution_count": null,
   "metadata": {
    "id": "h6xtL4lPQrBL"
   },
   "outputs": [],
   "source": [
    "from sklearn.model_selection import train_test_split\n",
    "# Split the dataset: 70% vs 30% \n",
    "X_train, X_test, y_train, y_test = train_test_split(X, y, test_size=0.3, random_state=0)\n"
   ]
  },
  {
   "cell_type": "markdown",
   "metadata": {},
   "source": [
    "## Этап 2. Выбор и обучение модели"
   ]
  },
  {
   "cell_type": "markdown",
   "metadata": {},
   "source": [
    "Первая модель, которую мы будем сравнивать - модель простой линейной регрессии. Для ее оценки воспользуемся статистической метрикой R^2 Score и прогоним модель на тестовых данных."
   ]
  },
  {
   "cell_type": "code",
   "execution_count": 129,
   "metadata": {
    "id": "7QgobxBSRq9w"
   },
   "outputs": [],
   "source": [
    "import pandas as pd\n",
    "from sklearn.linear_model import LinearRegression\n",
    "from sklearn.metrics import r2_score"
   ]
  },
  {
   "cell_type": "code",
   "execution_count": 131,
   "metadata": {
    "colab": {
     "base_uri": "https://localhost:8080/"
    },
    "id": "ybrbAnR7SOzb",
    "outputId": "d66601ec-dd1b-4acf-9944-ce7cf8a4ae3a"
   },
   "outputs": [
    {
     "data": {
      "text/html": [
       "<style>#sk-container-id-1 {color: black;background-color: white;}#sk-container-id-1 pre{padding: 0;}#sk-container-id-1 div.sk-toggleable {background-color: white;}#sk-container-id-1 label.sk-toggleable__label {cursor: pointer;display: block;width: 100%;margin-bottom: 0;padding: 0.3em;box-sizing: border-box;text-align: center;}#sk-container-id-1 label.sk-toggleable__label-arrow:before {content: \"▸\";float: left;margin-right: 0.25em;color: #696969;}#sk-container-id-1 label.sk-toggleable__label-arrow:hover:before {color: black;}#sk-container-id-1 div.sk-estimator:hover label.sk-toggleable__label-arrow:before {color: black;}#sk-container-id-1 div.sk-toggleable__content {max-height: 0;max-width: 0;overflow: hidden;text-align: left;background-color: #f0f8ff;}#sk-container-id-1 div.sk-toggleable__content pre {margin: 0.2em;color: black;border-radius: 0.25em;background-color: #f0f8ff;}#sk-container-id-1 input.sk-toggleable__control:checked~div.sk-toggleable__content {max-height: 200px;max-width: 100%;overflow: auto;}#sk-container-id-1 input.sk-toggleable__control:checked~label.sk-toggleable__label-arrow:before {content: \"▾\";}#sk-container-id-1 div.sk-estimator input.sk-toggleable__control:checked~label.sk-toggleable__label {background-color: #d4ebff;}#sk-container-id-1 div.sk-label input.sk-toggleable__control:checked~label.sk-toggleable__label {background-color: #d4ebff;}#sk-container-id-1 input.sk-hidden--visually {border: 0;clip: rect(1px 1px 1px 1px);clip: rect(1px, 1px, 1px, 1px);height: 1px;margin: -1px;overflow: hidden;padding: 0;position: absolute;width: 1px;}#sk-container-id-1 div.sk-estimator {font-family: monospace;background-color: #f0f8ff;border: 1px dotted black;border-radius: 0.25em;box-sizing: border-box;margin-bottom: 0.5em;}#sk-container-id-1 div.sk-estimator:hover {background-color: #d4ebff;}#sk-container-id-1 div.sk-parallel-item::after {content: \"\";width: 100%;border-bottom: 1px solid gray;flex-grow: 1;}#sk-container-id-1 div.sk-label:hover label.sk-toggleable__label {background-color: #d4ebff;}#sk-container-id-1 div.sk-serial::before {content: \"\";position: absolute;border-left: 1px solid gray;box-sizing: border-box;top: 0;bottom: 0;left: 50%;z-index: 0;}#sk-container-id-1 div.sk-serial {display: flex;flex-direction: column;align-items: center;background-color: white;padding-right: 0.2em;padding-left: 0.2em;position: relative;}#sk-container-id-1 div.sk-item {position: relative;z-index: 1;}#sk-container-id-1 div.sk-parallel {display: flex;align-items: stretch;justify-content: center;background-color: white;position: relative;}#sk-container-id-1 div.sk-item::before, #sk-container-id-1 div.sk-parallel-item::before {content: \"\";position: absolute;border-left: 1px solid gray;box-sizing: border-box;top: 0;bottom: 0;left: 50%;z-index: -1;}#sk-container-id-1 div.sk-parallel-item {display: flex;flex-direction: column;z-index: 1;position: relative;background-color: white;}#sk-container-id-1 div.sk-parallel-item:first-child::after {align-self: flex-end;width: 50%;}#sk-container-id-1 div.sk-parallel-item:last-child::after {align-self: flex-start;width: 50%;}#sk-container-id-1 div.sk-parallel-item:only-child::after {width: 0;}#sk-container-id-1 div.sk-dashed-wrapped {border: 1px dashed gray;margin: 0 0.4em 0.5em 0.4em;box-sizing: border-box;padding-bottom: 0.4em;background-color: white;}#sk-container-id-1 div.sk-label label {font-family: monospace;font-weight: bold;display: inline-block;line-height: 1.2em;}#sk-container-id-1 div.sk-label-container {text-align: center;}#sk-container-id-1 div.sk-container {/* jupyter's `normalize.less` sets `[hidden] { display: none; }` but bootstrap.min.css set `[hidden] { display: none !important; }` so we also need the `!important` here to be able to override the default hidden behavior on the sphinx rendered scikit-learn.org. See: https://github.com/scikit-learn/scikit-learn/issues/21755 */display: inline-block !important;position: relative;}#sk-container-id-1 div.sk-text-repr-fallback {display: none;}</style><div id=\"sk-container-id-1\" class=\"sk-top-container\"><div class=\"sk-text-repr-fallback\"><pre>LinearRegression()</pre><b>In a Jupyter environment, please rerun this cell to show the HTML representation or trust the notebook. <br />On GitHub, the HTML representation is unable to render, please try loading this page with nbviewer.org.</b></div><div class=\"sk-container\" hidden><div class=\"sk-item\"><div class=\"sk-estimator sk-toggleable\"><input class=\"sk-toggleable__control sk-hidden--visually\" id=\"sk-estimator-id-1\" type=\"checkbox\" checked><label for=\"sk-estimator-id-1\" class=\"sk-toggleable__label sk-toggleable__label-arrow\">LinearRegression</label><div class=\"sk-toggleable__content\"><pre>LinearRegression()</pre></div></div></div></div></div>"
      ],
      "text/plain": [
       "LinearRegression()"
      ]
     },
     "execution_count": 131,
     "metadata": {},
     "output_type": "execute_result"
    }
   ],
   "source": [
    "# initiate the linear model and fit with data\n",
    "lm =LinearRegression()\n",
    "lm.fit(X_train, y_train)"
   ]
  },
  {
   "cell_type": "markdown",
   "metadata": {},
   "source": [
    "**`R² (коэффициент детерминации)`** — это метрика, которая используется для оценки качества модели регрессии. Она показывает, насколько хорошо модель объясняет вариацию целевой переменной. Значение R² варьируется от 0 до 1 (или может быть отрицательным в случае плохой модели)."
   ]
  },
  {
   "cell_type": "markdown",
   "metadata": {},
   "source": [
    "<b>Интерпретация R²</b>\n",
    "- R² = 1 означает, что модель идеально предсказывает целевую переменную: вся вариация в данных объясняется моделью.\n",
    "- R² = 0 означает, что модель не объясняет вариацию целевой переменной лучше, чем среднее значение целевой переменной.\n",
    "- R² < 0 может возникнуть, если модель предсказывает хуже, чем простая модель, предсказывающая среднее значение для всех примеров.\n"
   ]
  },
  {
   "cell_type": "markdown",
   "metadata": {},
   "source": [
    "Чем ближе значение R² к 1, тем лучше модель справляется с предсказанием целевой переменной."
   ]
  },
  {
   "cell_type": "code",
   "execution_count": 133,
   "metadata": {
    "colab": {
     "base_uri": "https://localhost:8080/"
    },
    "id": "KAVFAZzzT2mk",
    "outputId": "8ddfbab3-02c1-49e2-dc71-bfefac484434"
   },
   "outputs": [
    {
     "name": "stdout",
     "output_type": "stream",
     "text": [
      "The R-squared value is: 0.6126 \n",
      "\n"
     ]
    }
   ],
   "source": [
    "print(\"The R-squared value is: {0:0.4f} \\n\".format(lm.score(X_train, y_train)))"
   ]
  },
  {
   "cell_type": "markdown",
   "metadata": {},
   "source": [
    "**`Интерсепт`** (перехват, intercept) в модели линейной регрессии — это значение, которое модель предскажет для целевой переменной y, когда все признаки X равны нулю. Интерсепт — это константа, которая добавляется к линейной комбинации признаков, чтобы сместить линию регрессии вверх или вниз по оси y. Это позволяет модели лучше подстроиться под данные."
   ]
  },
  {
   "cell_type": "code",
   "execution_count": 137,
   "metadata": {},
   "outputs": [],
   "source": [
    "feature_names = housing.feature_names"
   ]
  },
  {
   "cell_type": "code",
   "execution_count": 139,
   "metadata": {
    "colab": {
     "base_uri": "https://localhost:8080/"
    },
    "id": "WYe_59pwUgTN",
    "outputId": "0843dfaa-95e4-4a3a-dae5-30cc0311aa71"
   },
   "outputs": [
    {
     "name": "stdout",
     "output_type": "stream",
     "text": [
      "        Coef    Features\n",
      "0 -37.023278   intercept\n",
      "1   0.448675      MedInc\n",
      "2   0.009724    HouseAge\n",
      "3  -0.123323    AveRooms\n",
      "4   0.783145   AveBedrms\n",
      "5  -0.000002  Population\n",
      "6  -0.003526    AveOccup\n",
      "7  -0.419792    Latitude\n",
      "8  -0.433708   Longitude\n"
     ]
    }
   ],
   "source": [
    "param_df = pd.DataFrame({\"Features\": ['intercept'] + list(feature_names), \n",
    "\"Coef\": [lm.intercept_] + list(lm.coef_)}) \n",
    "cols = param_df.columns.tolist() \n",
    "cols = cols[-1:]+cols[:-1] \n",
    "param_df = param_df[cols] \n",
    "print(param_df)"
   ]
  },
  {
   "cell_type": "markdown",
   "metadata": {},
   "source": [
    "Оценим работу модели на тестовой выборке."
   ]
  },
  {
   "cell_type": "code",
   "execution_count": 141,
   "metadata": {
    "id": "GnlXvvm9Vr9F"
   },
   "outputs": [],
   "source": [
    "#%% check performance on test data \n",
    "predicted = lm.predict(X_test)"
   ]
  },
  {
   "cell_type": "code",
   "execution_count": 144,
   "metadata": {
    "id": "9FHPdN3KWCFZ"
   },
   "outputs": [],
   "source": [
    "import numpy as np\n",
    "mae = np.mean(abs(predicted-y_test))\n",
    "rmse = np.sqrt(np.mean((predicted-y_test)**2))\n",
    "rae = np.mean(abs(predicted-y_test))/np.mean(abs(y_test-np.mean(y_test)))\n",
    "rse = np.mean((predicted-y_test)**2)/np.mean((y_test-np.mean(y_test))**2)"
   ]
  },
  {
   "cell_type": "markdown",
   "metadata": {},
   "source": [
    "**`MAE`** (средняя абсолютная ошибка) рассчитывает среднее значение абсолютных ошибок между предсказанными и фактическими значениями. Она измеряет среднее отклонение предсказаний от истинных значений без учета знака ошибки."
   ]
  },
  {
   "cell_type": "markdown",
   "metadata": {},
   "source": [
    "<b>Интерпретация:</b>\n",
    "\n",
    "- Чем меньше значение MAE, тем точнее предсказания модели.\n",
    "- MAE интуитивно понятна, так как показывает среднюю величину ошибки в тех же единицах измерения, что и целевая переменная."
   ]
  },
  {
   "cell_type": "code",
   "execution_count": 146,
   "metadata": {
    "colab": {
     "base_uri": "https://localhost:8080/"
    },
    "id": "fEutwNTWWLbT",
    "outputId": "06b2a3a3-59ea-455c-9070-fc445012f3a7"
   },
   "outputs": [
    {
     "data": {
      "text/plain": [
       "0.5332001304956564"
      ]
     },
     "execution_count": 146,
     "metadata": {},
     "output_type": "execute_result"
    }
   ],
   "source": [
    "mae"
   ]
  },
  {
   "cell_type": "markdown",
   "metadata": {},
   "source": [
    "**`RMSE`** (Корень средней квадратичной ошибки) также измеряет среднее отклонение предсказанных значений от фактических, но в отличие от MAE, она более чувствительна к большим ошибкам, так как возводит каждую ошибку в квадрат перед усреднением."
   ]
  },
  {
   "cell_type": "markdown",
   "metadata": {},
   "source": [
    "<b>Интерпретация:</b>\n",
    "\n",
    "- Чем меньше RMSE, тем точнее предсказания модели.\n",
    "- Так как RMSE возводит ошибки в квадрат, она более чувствительна к выбросам, чем MAE. Большие ошибки дают непропорционально больший вклад в метрику, поэтому RMSE часто используется, когда важны не только средние ошибки, но и их распределение."
   ]
  },
  {
   "cell_type": "code",
   "execution_count": 148,
   "metadata": {
    "colab": {
     "base_uri": "https://localhost:8080/"
    },
    "id": "IIP1nsQnW0ZP",
    "outputId": "bd774bfc-8deb-4d79-81a3-b29d20c5edd1"
   },
   "outputs": [
    {
     "data": {
      "text/plain": [
       "0.7455813830127761"
      ]
     },
     "execution_count": 148,
     "metadata": {},
     "output_type": "execute_result"
    }
   ],
   "source": [
    "rmse"
   ]
  },
  {
   "cell_type": "markdown",
   "metadata": {},
   "source": [
    "**`RAE`** (относительная абсолютная ошибка) измеряет суммарную абсолютную ошибку модели по отношению к суммарной абсолютной ошибке базовой модели, которая всегда предсказывает среднее значение целевой переменной. По сути, это нормализованная версия MAE."
   ]
  },
  {
   "cell_type": "markdown",
   "metadata": {},
   "source": [
    "<b>Интерпретация:</b>\n",
    "\n",
    "- RAE показывает, насколько модель лучше (или хуже) простой модели, предсказывающей среднее значение. Если RAE < 1, значит модель лучше, чем среднее предсказание.\n",
    "- Она полезна для сравнения моделей, так как учитывает масштаб и вариативность целевой переменной."
   ]
  },
  {
   "cell_type": "code",
   "execution_count": 151,
   "metadata": {
    "colab": {
     "base_uri": "https://localhost:8080/"
    },
    "id": "2HoD0CpyW4mB",
    "outputId": "94fefbbf-07bc-4d5e-e14e-6a0d1408a7c7"
   },
   "outputs": [
    {
     "data": {
      "text/plain": [
       "0.5906596232557055"
      ]
     },
     "execution_count": 151,
     "metadata": {},
     "output_type": "execute_result"
    }
   ],
   "source": [
    "rae"
   ]
  },
  {
   "cell_type": "markdown",
   "metadata": {},
   "source": [
    "**`RSE`** измеряет суммарную квадратичную ошибку модели по отношению к суммарной квадратичной ошибке базовой модели (которая предсказывает среднее значение целевой переменной). Это нормализованная версия RMSE, аналог R² в обратном смысле (чем меньше, тем лучше)."
   ]
  },
  {
   "cell_type": "markdown",
   "metadata": {},
   "source": [
    "<b>Интерпретация:</b>\n",
    "\n",
    "- Значение RSE < 1 указывает на то, что модель лучше, чем простое среднее предсказание; RSE > 1 — что хуже.\n",
    "- Чем меньше значение RSE, тем лучше модель объясняет вариацию данных по сравнению с базовой моделью."
   ]
  },
  {
   "cell_type": "code",
   "execution_count": 153,
   "metadata": {
    "colab": {
     "base_uri": "https://localhost:8080/"
    },
    "id": "b3badiP8W5_I",
    "outputId": "6d619efb-6289-4264-d27f-0306e3c8f546"
   },
   "outputs": [
    {
     "data": {
      "text/plain": [
       "0.42421229396754895"
      ]
     },
     "execution_count": 153,
     "metadata": {},
     "output_type": "execute_result"
    }
   ],
   "source": [
    "rse"
   ]
  },
  {
   "cell_type": "code",
   "execution_count": 155,
   "metadata": {
    "colab": {
     "base_uri": "https://localhost:8080/"
    },
    "id": "u3u25lDoW7c5",
    "outputId": "2dee88cd-b5c0-4aac-b21d-b112e783045d"
   },
   "outputs": [
    {
     "name": "stdout",
     "output_type": "stream",
     "text": [
      "The R-squared value is: 0.5758\n",
      "Mean Absolute Error: 0.533200\n",
      "Root Mean Squared Error: 0.745581\n",
      "Relative Absolute Error: 0.590660\n",
      "Relative Squared Error: 0.424212\n"
     ]
    }
   ],
   "source": [
    "print(\"The R-squared value is: {0:0.4f}\".format(lm.score(X_test, y_test))) \n",
    "print(\"Mean Absolute Error: {0:0.6f}\".format(mae)) \n",
    "print(\"Root Mean Squared Error: {0:0.6f}\".format(rmse)) \n",
    "print(\"Relative Absolute Error: {0:0.6f}\".format(rae)) \n",
    "print(\"Relative Squared Error: {0:0.6f}\".format(rse)) "
   ]
  },
  {
   "cell_type": "code",
   "execution_count": 187,
   "metadata": {
    "colab": {
     "base_uri": "https://localhost:8080/"
    },
    "id": "nAvxTISfYUxX",
    "outputId": "70a8bcf6-be37-4b05-b42e-aae730cea024"
   },
   "outputs": [
    {
     "name": "stdout",
     "output_type": "stream",
     "text": [
      "The R-squared value is: 0.6125 \n",
      "\n",
      "Mean Absolute Error: 0.533206\n",
      "Root Mean Squared Error: 0.745623\n",
      "Relative Absolute Error: 0.590666\n",
      "Relative Squared Error: 0.424259\n"
     ]
    }
   ],
   "source": [
    "# print metrics on test data\n",
    "print(\"The R-squared value is: {0:0.4f} \\n\".format(lm2.score(X_train_new, y_train)))\n",
    "print(\"Mean Absolute Error: {0:0.6f}\".format(mae))\n",
    "print(\"Root Mean Squared Error: {0:0.6f}\".format(rmse))\n",
    "print(\"Relative Absolute Error: {0:0.6f}\".format(rae))\n",
    "print(\"Relative Squared Error: {0:0.6f}\".format(rse))  "
   ]
  },
  {
   "cell_type": "code",
   "execution_count": 207,
   "metadata": {
    "colab": {
     "base_uri": "https://localhost:8080/"
    },
    "id": "QdnS_gYT3xb-",
    "outputId": "0a5ee60e-715d-4d80-c968-41a7fbc2708f"
   },
   "outputs": [
    {
     "name": "stdout",
     "output_type": "stream",
     "text": [
      "The R-squared value is: 0.5758\n",
      "Mean Absolute Error: 0.533202\n",
      "Root Mean Squared Error: 0.745552\n",
      "Relative Absolute Error: 0.590662\n",
      "Relative Squared Error: 0.424179\n"
     ]
    }
   ],
   "source": [
    "print(\"The R-squared value is: {0:0.4f}\".format(Ridge.score(X_test, y_test))) \n",
    "print(\"Mean Absolute Error: {0:0.6f}\".format(mae)) \n",
    "print(\"Root Mean Squared Error: {0:0.6f}\".format(rmse)) \n",
    "print(\"Relative Absolute Error: {0:0.6f}\".format(rae)) \n",
    "print(\"Relative Squared Error: {0:0.6f}\".format(rse)) "
   ]
  },
  {
   "cell_type": "code",
   "execution_count": 213,
   "metadata": {
    "colab": {
     "base_uri": "https://localhost:8080/"
    },
    "id": "dha5a9IcWVuL",
    "outputId": "6673e90d-a31f-4c5a-d90b-c83bf0502401"
   },
   "outputs": [
    {
     "name": "stdout",
     "output_type": "stream",
     "text": [
      "The R-squared value is: 0.5318\n",
      "Mean Absolute Error: 0.581607\n",
      "Root Mean Squared Error: 0.783270\n",
      "Relative Absolute Error: 0.644283\n",
      "Relative Squared Error: 0.468183\n"
     ]
    }
   ],
   "source": [
    "predicted_Lasso = Lasso.predict(X_test)\n",
    "mae = np.mean(abs(predicted_Lasso-y_test))\n",
    "rmse = np.sqrt(np.mean((predicted_Lasso-y_test)**2))\n",
    "rae = np.mean(abs(predicted_Lasso-y_test))/np.mean(abs(y_test-np.mean(y_test)))\n",
    "rse = np.mean((predicted_Lasso-y_test)**2)/np.mean((y_test-np.mean(y_test))**2)\n",
    "print(\"The R-squared value is: {0:0.4f}\".format(Lasso.score(X_test, y_test))) \n",
    "print(\"Mean Absolute Error: {0:0.6f}\".format(mae)) \n",
    "print(\"Root Mean Squared Error: {0:0.6f}\".format(rmse)) \n",
    "print(\"Relative Absolute Error: {0:0.6f}\".format(rae)) \n",
    "print(\"Relative Squared Error: {0:0.6f}\".format(rse)) "
   ]
  },
  {
   "cell_type": "code",
   "execution_count": 217,
   "metadata": {
    "colab": {
     "base_uri": "https://localhost:8080/"
    },
    "id": "mJ0deR1qX--X",
    "outputId": "f79bafa7-9e65-46c1-b923-2cfe9c345c33"
   },
   "outputs": [
    {
     "name": "stdout",
     "output_type": "stream",
     "text": [
      "The R-squared value is: 0.5719\n",
      "Mean Absolute Error: 0.549604\n",
      "Root Mean Squared Error: 0.783270\n",
      "Relative Absolute Error: 0.608831\n",
      "Relative Squared Error: 0.428129\n"
     ]
    }
   ],
   "source": [
    "predicted_ElasticNetCV = ElasticNetCV.predict(X_test)\n",
    "mae = np.mean(abs(predicted_ElasticNetCV-y_test))\n",
    "rmse = np.sqrt(np.mean((predicted_Lasso-y_test)**2))\n",
    "rae = np.mean(abs(predicted_ElasticNetCV-y_test))/np.mean(abs(y_test-np.mean(y_test)))\n",
    "rse = np.mean((predicted_ElasticNetCV-y_test)**2)/np.mean((y_test-np.mean(y_test))**2)\n",
    "print(\"The R-squared value is: {0:0.4f}\".format(ElasticNetCV.score(X_test, y_test))) \n",
    "print(\"Mean Absolute Error: {0:0.6f}\".format(mae)) \n",
    "print(\"Root Mean Squared Error: {0:0.6f}\".format(rmse)) \n",
    "print(\"Relative Absolute Error: {0:0.6f}\".format(rae)) \n",
    "print(\"Relative Squared Error: {0:0.6f}\".format(rse)) "
   ]
  },
  {
   "cell_type": "code",
   "execution_count": 225,
   "metadata": {
    "colab": {
     "base_uri": "https://localhost:8080/"
    },
    "id": "4mjF6lZBeuqY",
    "outputId": "b40cc255-2e8b-429e-9d55-ef1256e5718e"
   },
   "outputs": [
    {
     "name": "stdout",
     "output_type": "stream",
     "text": [
      "The R-squared value is: 0.5642\n",
      "Mean Absolute Error: 0.534158\n",
      "Root Mean Squared Error: 0.755729\n",
      "Relative Absolute Error: 0.591721\n",
      "Relative Squared Error: 0.435839\n"
     ]
    }
   ],
   "source": [
    "predicted_SGD = SGD.predict(X_test)\n",
    "mae = np.mean(abs(predicted_SGD-y_test))\n",
    "rmse = np.sqrt(np.mean((predicted_SGD-y_test)**2))\n",
    "rae = np.mean(abs(predicted_SGD-y_test))/np.mean(abs(y_test-np.mean(y_test)))\n",
    "rse = np.mean((predicted_SGD-y_test)**2)/np.mean((y_test-np.mean(y_test))**2)\n",
    "print(\"The R-squared value is: {0:0.4f}\".format(SGD.score(X_test, y_test))) \n",
    "print(\"Mean Absolute Error: {0:0.6f}\".format(mae)) \n",
    "print(\"Root Mean Squared Error: {0:0.6f}\".format(rmse)) \n",
    "print(\"Relative Absolute Error: {0:0.6f}\".format(rae)) \n",
    "print(\"Relative Squared Error: {0:0.6f}\".format(rse))"
   ]
  },
  {
   "cell_type": "markdown",
   "metadata": {},
   "source": [
    "## Выбор признаков"
   ]
  },
  {
   "cell_type": "markdown",
   "metadata": {},
   "source": [
    "Нормализуем данные и применим RFE (метод рекурсивного исключения признаков) и RFECV (метод рекурсивного исключения признаков с кросс-валидацией)."
   ]
  },
  {
   "cell_type": "code",
   "execution_count": 157,
   "metadata": {
    "id": "wryaLYfFYF2J"
   },
   "outputs": [],
   "source": [
    "%matplotlib inline\n",
    "import matplotlib.pyplot as plt\n",
    "from sklearn import preprocessing\n",
    "from sklearn.feature_selection import RFE\n",
    "from sklearn.feature_selection import RFECV"
   ]
  },
  {
   "cell_type": "code",
   "execution_count": 159,
   "metadata": {
    "id": "hyQFgFh6bN-f"
   },
   "outputs": [],
   "source": [
    "# initiate the linear model \n",
    "lm = LinearRegression()"
   ]
  },
  {
   "cell_type": "code",
   "execution_count": 161,
   "metadata": {
    "id": "3BZE4wfTbVn1"
   },
   "outputs": [],
   "source": [
    "# scale the features \n",
    "min_mascaler =  preprocessing.MinMaxScaler()\n",
    "scaled_minmax = min_mascaler.fit_transform(X_train)\n",
    "scaled_minmadf = pd.DataFrame(scaled_minmax, columns = feature_names)"
   ]
  },
  {
   "cell_type": "markdown",
   "metadata": {},
   "source": [
    "Принцип работы рекурсивного метода исключения признаков следующий:\n",
    "1. Обучает модель на всех признаках.\n",
    "2. Определяет признаки с наименьшим вкладом и удаляет их.\n",
    "3. Повторяет процесс до тех пор, пока не останется нужное количество признаков."
   ]
  },
  {
   "cell_type": "code",
   "execution_count": null,
   "metadata": {},
   "outputs": [],
   "source": [
    "from sklearn.feature_selection import RFE\n",
    "estimator = SomeEstimator()  # Ваш модельный алгоритм, например, линейная регрессия\n",
    "selector = RFE(estimator, n_features_to_select=5)  # Выбираем 5 признаков\n",
    "selector = selector.fit(X, y)\n"
   ]
  },
  {
   "cell_type": "markdown",
   "metadata": {},
   "source": [
    "RFECV - улучшенная версия RFE, которая использует кросс-валидацию для выбора оптимального количества признаков. Она автоматически определяет, сколько признаков нужно оставить, чтобы добиться лучшего качества модели, учитывая данные с кросс-валидацией."
   ]
  },
  {
   "cell_type": "code",
   "execution_count": 163,
   "metadata": {
    "colab": {
     "base_uri": "https://localhost:8080/"
    },
    "id": "1F8JB3VAb3mH",
    "outputId": "65bfd164-b68e-4f8f-ad37-623b08ce9b15"
   },
   "outputs": [
    {
     "data": {
      "text/html": [
       "<style>#sk-container-id-2 {color: black;background-color: white;}#sk-container-id-2 pre{padding: 0;}#sk-container-id-2 div.sk-toggleable {background-color: white;}#sk-container-id-2 label.sk-toggleable__label {cursor: pointer;display: block;width: 100%;margin-bottom: 0;padding: 0.3em;box-sizing: border-box;text-align: center;}#sk-container-id-2 label.sk-toggleable__label-arrow:before {content: \"▸\";float: left;margin-right: 0.25em;color: #696969;}#sk-container-id-2 label.sk-toggleable__label-arrow:hover:before {color: black;}#sk-container-id-2 div.sk-estimator:hover label.sk-toggleable__label-arrow:before {color: black;}#sk-container-id-2 div.sk-toggleable__content {max-height: 0;max-width: 0;overflow: hidden;text-align: left;background-color: #f0f8ff;}#sk-container-id-2 div.sk-toggleable__content pre {margin: 0.2em;color: black;border-radius: 0.25em;background-color: #f0f8ff;}#sk-container-id-2 input.sk-toggleable__control:checked~div.sk-toggleable__content {max-height: 200px;max-width: 100%;overflow: auto;}#sk-container-id-2 input.sk-toggleable__control:checked~label.sk-toggleable__label-arrow:before {content: \"▾\";}#sk-container-id-2 div.sk-estimator input.sk-toggleable__control:checked~label.sk-toggleable__label {background-color: #d4ebff;}#sk-container-id-2 div.sk-label input.sk-toggleable__control:checked~label.sk-toggleable__label {background-color: #d4ebff;}#sk-container-id-2 input.sk-hidden--visually {border: 0;clip: rect(1px 1px 1px 1px);clip: rect(1px, 1px, 1px, 1px);height: 1px;margin: -1px;overflow: hidden;padding: 0;position: absolute;width: 1px;}#sk-container-id-2 div.sk-estimator {font-family: monospace;background-color: #f0f8ff;border: 1px dotted black;border-radius: 0.25em;box-sizing: border-box;margin-bottom: 0.5em;}#sk-container-id-2 div.sk-estimator:hover {background-color: #d4ebff;}#sk-container-id-2 div.sk-parallel-item::after {content: \"\";width: 100%;border-bottom: 1px solid gray;flex-grow: 1;}#sk-container-id-2 div.sk-label:hover label.sk-toggleable__label {background-color: #d4ebff;}#sk-container-id-2 div.sk-serial::before {content: \"\";position: absolute;border-left: 1px solid gray;box-sizing: border-box;top: 0;bottom: 0;left: 50%;z-index: 0;}#sk-container-id-2 div.sk-serial {display: flex;flex-direction: column;align-items: center;background-color: white;padding-right: 0.2em;padding-left: 0.2em;position: relative;}#sk-container-id-2 div.sk-item {position: relative;z-index: 1;}#sk-container-id-2 div.sk-parallel {display: flex;align-items: stretch;justify-content: center;background-color: white;position: relative;}#sk-container-id-2 div.sk-item::before, #sk-container-id-2 div.sk-parallel-item::before {content: \"\";position: absolute;border-left: 1px solid gray;box-sizing: border-box;top: 0;bottom: 0;left: 50%;z-index: -1;}#sk-container-id-2 div.sk-parallel-item {display: flex;flex-direction: column;z-index: 1;position: relative;background-color: white;}#sk-container-id-2 div.sk-parallel-item:first-child::after {align-self: flex-end;width: 50%;}#sk-container-id-2 div.sk-parallel-item:last-child::after {align-self: flex-start;width: 50%;}#sk-container-id-2 div.sk-parallel-item:only-child::after {width: 0;}#sk-container-id-2 div.sk-dashed-wrapped {border: 1px dashed gray;margin: 0 0.4em 0.5em 0.4em;box-sizing: border-box;padding-bottom: 0.4em;background-color: white;}#sk-container-id-2 div.sk-label label {font-family: monospace;font-weight: bold;display: inline-block;line-height: 1.2em;}#sk-container-id-2 div.sk-label-container {text-align: center;}#sk-container-id-2 div.sk-container {/* jupyter's `normalize.less` sets `[hidden] { display: none; }` but bootstrap.min.css set `[hidden] { display: none !important; }` so we also need the `!important` here to be able to override the default hidden behavior on the sphinx rendered scikit-learn.org. See: https://github.com/scikit-learn/scikit-learn/issues/21755 */display: inline-block !important;position: relative;}#sk-container-id-2 div.sk-text-repr-fallback {display: none;}</style><div id=\"sk-container-id-2\" class=\"sk-top-container\"><div class=\"sk-text-repr-fallback\"><pre>RFECV(cv=5, estimator=LinearRegression())</pre><b>In a Jupyter environment, please rerun this cell to show the HTML representation or trust the notebook. <br />On GitHub, the HTML representation is unable to render, please try loading this page with nbviewer.org.</b></div><div class=\"sk-container\" hidden><div class=\"sk-item sk-dashed-wrapped\"><div class=\"sk-label-container\"><div class=\"sk-label sk-toggleable\"><input class=\"sk-toggleable__control sk-hidden--visually\" id=\"sk-estimator-id-2\" type=\"checkbox\" ><label for=\"sk-estimator-id-2\" class=\"sk-toggleable__label sk-toggleable__label-arrow\">RFECV</label><div class=\"sk-toggleable__content\"><pre>RFECV(cv=5, estimator=LinearRegression())</pre></div></div></div><div class=\"sk-parallel\"><div class=\"sk-parallel-item\"><div class=\"sk-item\"><div class=\"sk-label-container\"><div class=\"sk-label sk-toggleable\"><input class=\"sk-toggleable__control sk-hidden--visually\" id=\"sk-estimator-id-3\" type=\"checkbox\" ><label for=\"sk-estimator-id-3\" class=\"sk-toggleable__label sk-toggleable__label-arrow\">estimator: LinearRegression</label><div class=\"sk-toggleable__content\"><pre>LinearRegression()</pre></div></div></div><div class=\"sk-serial\"><div class=\"sk-item\"><div class=\"sk-estimator sk-toggleable\"><input class=\"sk-toggleable__control sk-hidden--visually\" id=\"sk-estimator-id-4\" type=\"checkbox\" ><label for=\"sk-estimator-id-4\" class=\"sk-toggleable__label sk-toggleable__label-arrow\">LinearRegression</label><div class=\"sk-toggleable__content\"><pre>LinearRegression()</pre></div></div></div></div></div></div></div></div></div></div>"
      ],
      "text/plain": [
       "RFECV(cv=5, estimator=LinearRegression())"
      ]
     },
     "execution_count": 163,
     "metadata": {},
     "output_type": "execute_result"
    }
   ],
   "source": [
    "# recursive feature elimination with cross validation, using r-squared as metric \n",
    "rfecv = RFECV(estimator=lm, step=1, cv=5) \n",
    "rfecv.fit(scaled_minmadf, y_train)"
   ]
  },
  {
   "cell_type": "code",
   "execution_count": 165,
   "metadata": {
    "colab": {
     "base_uri": "https://localhost:8080/"
    },
    "id": "3wjWN1N8b6et",
    "outputId": "811403d2-55c6-4107-ac52-c2dadbf787da"
   },
   "outputs": [
    {
     "name": "stdout",
     "output_type": "stream",
     "text": [
      "Optimal number of features : 7\n"
     ]
    }
   ],
   "source": [
    "# print the optimal number of feature \n",
    "print(\"Optimal number of features : %d\" % rfecv.n_features_)"
   ]
  },
  {
   "cell_type": "markdown",
   "metadata": {},
   "source": [
    "Этот график иллюстрирует, как качество модели (в данном случае по метрике mean squared error — среднеквадратичная ошибка) меняется в зависимости от количества выбранных признаков при использовании метода RFECV (Recursive Feature Elimination with Cross-Validation)."
   ]
  },
  {
   "cell_type": "code",
   "execution_count": 171,
   "metadata": {
    "colab": {
     "base_uri": "https://localhost:8080/",
     "height": 405
    },
    "id": "aDQpaal9aBoP",
    "outputId": "2ce93c72-3617-4759-9034-2d75b9169316"
   },
   "outputs": [
    {
     "data": {
      "text/plain": [
       "[<matplotlib.lines.Line2D at 0x202696a2650>]"
      ]
     },
     "execution_count": 171,
     "metadata": {},
     "output_type": "execute_result"
    },
    {
     "data": {
      "image/png": "[encoded data removed]",
      "text/plain": [
       "<Figure size 970.8x600 with 1 Axes>"
      ]
     },
     "metadata": {},
     "output_type": "display_data"
    }
   ],
   "source": [
    "# plot number of features VS. cross-validation scores \n",
    "plt.figure(figsize=(6 * 1.618, 6)) \n",
    "plt.xlabel(\"Number of features selected\") \n",
    "plt.ylabel(\"mean-squared-error\") \n",
    "plt.plot(range(1, len(rfecv.cv_results_['mean_test_score']) + 1), rfecv.cv_results_['mean_test_score'])\n"
   ]
  },
  {
   "cell_type": "markdown",
   "metadata": {},
   "source": [
    "### Обучим модель на выбранных признаках и нормализованных данных"
   ]
  },
  {
   "cell_type": "code",
   "execution_count": 173,
   "metadata": {
    "colab": {
     "base_uri": "https://localhost:8080/"
    },
    "id": "k1srhlW3cXcR",
    "outputId": "330e5f23-5367-4431-837c-ce75587fd438"
   },
   "outputs": [
    {
     "data": {
      "text/html": [
       "<style>#sk-container-id-3 {color: black;background-color: white;}#sk-container-id-3 pre{padding: 0;}#sk-container-id-3 div.sk-toggleable {background-color: white;}#sk-container-id-3 label.sk-toggleable__label {cursor: pointer;display: block;width: 100%;margin-bottom: 0;padding: 0.3em;box-sizing: border-box;text-align: center;}#sk-container-id-3 label.sk-toggleable__label-arrow:before {content: \"▸\";float: left;margin-right: 0.25em;color: #696969;}#sk-container-id-3 label.sk-toggleable__label-arrow:hover:before {color: black;}#sk-container-id-3 div.sk-estimator:hover label.sk-toggleable__label-arrow:before {color: black;}#sk-container-id-3 div.sk-toggleable__content {max-height: 0;max-width: 0;overflow: hidden;text-align: left;background-color: #f0f8ff;}#sk-container-id-3 div.sk-toggleable__content pre {margin: 0.2em;color: black;border-radius: 0.25em;background-color: #f0f8ff;}#sk-container-id-3 input.sk-toggleable__control:checked~div.sk-toggleable__content {max-height: 200px;max-width: 100%;overflow: auto;}#sk-container-id-3 input.sk-toggleable__control:checked~label.sk-toggleable__label-arrow:before {content: \"▾\";}#sk-container-id-3 div.sk-estimator input.sk-toggleable__control:checked~label.sk-toggleable__label {background-color: #d4ebff;}#sk-container-id-3 div.sk-label input.sk-toggleable__control:checked~label.sk-toggleable__label {background-color: #d4ebff;}#sk-container-id-3 input.sk-hidden--visually {border: 0;clip: rect(1px 1px 1px 1px);clip: rect(1px, 1px, 1px, 1px);height: 1px;margin: -1px;overflow: hidden;padding: 0;position: absolute;width: 1px;}#sk-container-id-3 div.sk-estimator {font-family: monospace;background-color: #f0f8ff;border: 1px dotted black;border-radius: 0.25em;box-sizing: border-box;margin-bottom: 0.5em;}#sk-container-id-3 div.sk-estimator:hover {background-color: #d4ebff;}#sk-container-id-3 div.sk-parallel-item::after {content: \"\";width: 100%;border-bottom: 1px solid gray;flex-grow: 1;}#sk-container-id-3 div.sk-label:hover label.sk-toggleable__label {background-color: #d4ebff;}#sk-container-id-3 div.sk-serial::before {content: \"\";position: absolute;border-left: 1px solid gray;box-sizing: border-box;top: 0;bottom: 0;left: 50%;z-index: 0;}#sk-container-id-3 div.sk-serial {display: flex;flex-direction: column;align-items: center;background-color: white;padding-right: 0.2em;padding-left: 0.2em;position: relative;}#sk-container-id-3 div.sk-item {position: relative;z-index: 1;}#sk-container-id-3 div.sk-parallel {display: flex;align-items: stretch;justify-content: center;background-color: white;position: relative;}#sk-container-id-3 div.sk-item::before, #sk-container-id-3 div.sk-parallel-item::before {content: \"\";position: absolute;border-left: 1px solid gray;box-sizing: border-box;top: 0;bottom: 0;left: 50%;z-index: -1;}#sk-container-id-3 div.sk-parallel-item {display: flex;flex-direction: column;z-index: 1;position: relative;background-color: white;}#sk-container-id-3 div.sk-parallel-item:first-child::after {align-self: flex-end;width: 50%;}#sk-container-id-3 div.sk-parallel-item:last-child::after {align-self: flex-start;width: 50%;}#sk-container-id-3 div.sk-parallel-item:only-child::after {width: 0;}#sk-container-id-3 div.sk-dashed-wrapped {border: 1px dashed gray;margin: 0 0.4em 0.5em 0.4em;box-sizing: border-box;padding-bottom: 0.4em;background-color: white;}#sk-container-id-3 div.sk-label label {font-family: monospace;font-weight: bold;display: inline-block;line-height: 1.2em;}#sk-container-id-3 div.sk-label-container {text-align: center;}#sk-container-id-3 div.sk-container {/* jupyter's `normalize.less` sets `[hidden] { display: none; }` but bootstrap.min.css set `[hidden] { display: none !important; }` so we also need the `!important` here to be able to override the default hidden behavior on the sphinx rendered scikit-learn.org. See: https://github.com/scikit-learn/scikit-learn/issues/21755 */display: inline-block !important;position: relative;}#sk-container-id-3 div.sk-text-repr-fallback {display: none;}</style><div id=\"sk-container-id-3\" class=\"sk-top-container\"><div class=\"sk-text-repr-fallback\"><pre>LinearRegression()</pre><b>In a Jupyter environment, please rerun this cell to show the HTML representation or trust the notebook. <br />On GitHub, the HTML representation is unable to render, please try loading this page with nbviewer.org.</b></div><div class=\"sk-container\" hidden><div class=\"sk-item\"><div class=\"sk-estimator sk-toggleable\"><input class=\"sk-toggleable__control sk-hidden--visually\" id=\"sk-estimator-id-5\" type=\"checkbox\" checked><label for=\"sk-estimator-id-5\" class=\"sk-toggleable__label sk-toggleable__label-arrow\">LinearRegression</label><div class=\"sk-toggleable__content\"><pre>LinearRegression()</pre></div></div></div></div></div>"
      ],
      "text/plain": [
       "LinearRegression()"
      ]
     },
     "execution_count": 173,
     "metadata": {},
     "output_type": "execute_result"
    }
   ],
   "source": [
    "# %% fit model с выбранными функциями  \n",
    "#%% fit model with selected features X_train_new = X_train[:,rfecv.support_] \n",
    "X_train_new = X_train.values[:,rfecv.support_]\n",
    "lm2 = LinearRegression() \n",
    "lm2.fit(X_train_new, y_train)"
   ]
  },
  {
   "cell_type": "code",
   "execution_count": 175,
   "metadata": {
    "colab": {
     "base_uri": "https://localhost:8080/"
    },
    "id": "iOpnVLhVgqV8",
    "outputId": "543b25db-ff6b-42c0-9879-ad5bfd49ece2"
   },
   "outputs": [
    {
     "name": "stdout",
     "output_type": "stream",
     "text": [
      "Root Mean Squared Error: 0.7197\n"
     ]
    }
   ],
   "source": [
    "predicted = lm2.predict(X_train_new)\n",
    " \n",
    "rmse = np.sqrt(np.mean((predicted-y_train)**2))\n",
    "print(\"Root Mean Squared Error: {0:0.4f}\" .format(rmse)) "
   ]
  },
  {
   "cell_type": "code",
   "execution_count": 177,
   "metadata": {
    "colab": {
     "base_uri": "https://localhost:8080/"
    },
    "id": "_2Gq4UHGVhVI",
    "outputId": "d1ad2792-9ada-4ff1-a9ff-a2531489dafc"
   },
   "outputs": [
    {
     "name": "stdout",
     "output_type": "stream",
     "text": [
      "The R-squared value is: 0.6125 \n",
      "\n"
     ]
    }
   ],
   "source": [
    "# print the R-squared \n",
    "print(\"The R-squared value is: {0:0.4f} \\n\".format(lm2.score(X_train_new, y_train)))"
   ]
  },
  {
   "cell_type": "code",
   "execution_count": 179,
   "metadata": {
    "colab": {
     "base_uri": "https://localhost:8080/"
    },
    "id": "hK6vrjpZWGUY",
    "outputId": "d44e907b-8f7b-4338-d28d-acb1b68b09f4"
   },
   "outputs": [
    {
     "name": "stdout",
     "output_type": "stream",
     "text": [
      "        Coef   Features\n",
      "0 -37.011402  intercept\n",
      "1   0.448723     MedInc\n",
      "2   0.009785   HouseAge\n",
      "3  -0.123252   AveRooms\n",
      "4   0.783236  AveBedrms\n",
      "5  -0.003542   AveOccup\n",
      "6  -0.419487   Latitude\n",
      "7  -0.433474  Longitude\n"
     ]
    }
   ],
   "source": [
    "feature_cols_selected = list(np.array(feature_names)[rfecv.support_]) \n",
    "# print intercept and coefficients\n",
    "param_df = pd.DataFrame({\"Features\": ['intercept'] + feature_cols_selected , \n",
    "\"Coef\": [lm2.intercept_] + list(lm2.coef_)})\n",
    "\n",
    "cols = param_df.columns.tolist()\n",
    "cols = cols[-1:]+cols[:-1] \n",
    "param_df = param_df[cols] \n",
    "print(param_df)"
   ]
  },
  {
   "cell_type": "markdown",
   "metadata": {},
   "source": [
    "<b>Оценим работу модели на тестовых данных</b>"
   ]
  },
  {
   "cell_type": "code",
   "execution_count": 183,
   "metadata": {
    "id": "5kEm7EA5Wtmf"
   },
   "outputs": [],
   "source": [
    "# %% проверить производительность по тестовым данным \n",
    "#%% check performance on test data\n",
    "X_test_part = X_test.values[:,rfecv.support_]\n",
    "predicted = lm2.predict(X_test_part)"
   ]
  },
  {
   "cell_type": "code",
   "execution_count": 185,
   "metadata": {
    "id": "yZ7vgPuTYiZH"
   },
   "outputs": [],
   "source": [
    "mae = np.mean(abs(predicted-y_test))\n",
    "rmse = np.sqrt(np.mean((predicted-y_test)**2))\n",
    "rae = np.mean(abs(predicted-y_test))/np.mean(abs(y_test-np.mean(y_test)))\n",
    "rse = np.mean((predicted-y_test)**2)/np.mean((y_test-np.mean(y_test)))\n",
    "rse = np.mean((predicted-y_test)**2)/np.mean((y_test-np.mean(y_test))**2)"
   ]
  },
  {
   "cell_type": "markdown",
   "metadata": {
    "id": "GAVgJocjl_82"
   },
   "source": [
    "# Ridge regression and classification"
   ]
  },
  {
   "cell_type": "markdown",
   "metadata": {},
   "source": [
    "**`Ridge Regression (гребневая регрессия)`** — это вид линейной регрессии, который использует L2-регуляризацию, добавляя штраф к сумме квадратов коэффициентов. Это помогает уменьшить переобучение, особенно когда признаки имеют высокую корреляцию или когда количество признаков велико по сравнению с количеством наблюдений."
   ]
  },
  {
   "cell_type": "markdown",
   "metadata": {},
   "source": [
    "<b>Когда использовать:</b>\n",
    "- Когда есть многоколлинеарность между признаками (высокая корреляция между независимыми переменными).\n",
    "- Когда модель склонна к переобучению из-за большого числа признаков."
   ]
  },
  {
   "cell_type": "markdown",
   "metadata": {},
   "source": [
    "- alpha=0.5: Параметр регуляризации, который определяет силу L2-регуляризации."
   ]
  },
  {
   "cell_type": "code",
   "execution_count": 189,
   "metadata": {
    "id": "fGMTDdo6l_LG"
   },
   "outputs": [],
   "source": [
    " from sklearn import linear_model\n",
    "Ridge = linear_model.Ridge(alpha=0.5)"
   ]
  },
  {
   "cell_type": "code",
   "execution_count": 191,
   "metadata": {
    "colab": {
     "base_uri": "https://localhost:8080/"
    },
    "id": "1NzJoGHz2aKN",
    "outputId": "0328b3c1-3718-49ed-d831-942d58584c11"
   },
   "outputs": [
    {
     "data": {
      "text/html": [
       "<style>#sk-container-id-4 {color: black;background-color: white;}#sk-container-id-4 pre{padding: 0;}#sk-container-id-4 div.sk-toggleable {background-color: white;}#sk-container-id-4 label.sk-toggleable__label {cursor: pointer;display: block;width: 100%;margin-bottom: 0;padding: 0.3em;box-sizing: border-box;text-align: center;}#sk-container-id-4 label.sk-toggleable__label-arrow:before {content: \"▸\";float: left;margin-right: 0.25em;color: #696969;}#sk-container-id-4 label.sk-toggleable__label-arrow:hover:before {color: black;}#sk-container-id-4 div.sk-estimator:hover label.sk-toggleable__label-arrow:before {color: black;}#sk-container-id-4 div.sk-toggleable__content {max-height: 0;max-width: 0;overflow: hidden;text-align: left;background-color: #f0f8ff;}#sk-container-id-4 div.sk-toggleable__content pre {margin: 0.2em;color: black;border-radius: 0.25em;background-color: #f0f8ff;}#sk-container-id-4 input.sk-toggleable__control:checked~div.sk-toggleable__content {max-height: 200px;max-width: 100%;overflow: auto;}#sk-container-id-4 input.sk-toggleable__control:checked~label.sk-toggleable__label-arrow:before {content: \"▾\";}#sk-container-id-4 div.sk-estimator input.sk-toggleable__control:checked~label.sk-toggleable__label {background-color: #d4ebff;}#sk-container-id-4 div.sk-label input.sk-toggleable__control:checked~label.sk-toggleable__label {background-color: #d4ebff;}#sk-container-id-4 input.sk-hidden--visually {border: 0;clip: rect(1px 1px 1px 1px);clip: rect(1px, 1px, 1px, 1px);height: 1px;margin: -1px;overflow: hidden;padding: 0;position: absolute;width: 1px;}#sk-container-id-4 div.sk-estimator {font-family: monospace;background-color: #f0f8ff;border: 1px dotted black;border-radius: 0.25em;box-sizing: border-box;margin-bottom: 0.5em;}#sk-container-id-4 div.sk-estimator:hover {background-color: #d4ebff;}#sk-container-id-4 div.sk-parallel-item::after {content: \"\";width: 100%;border-bottom: 1px solid gray;flex-grow: 1;}#sk-container-id-4 div.sk-label:hover label.sk-toggleable__label {background-color: #d4ebff;}#sk-container-id-4 div.sk-serial::before {content: \"\";position: absolute;border-left: 1px solid gray;box-sizing: border-box;top: 0;bottom: 0;left: 50%;z-index: 0;}#sk-container-id-4 div.sk-serial {display: flex;flex-direction: column;align-items: center;background-color: white;padding-right: 0.2em;padding-left: 0.2em;position: relative;}#sk-container-id-4 div.sk-item {position: relative;z-index: 1;}#sk-container-id-4 div.sk-parallel {display: flex;align-items: stretch;justify-content: center;background-color: white;position: relative;}#sk-container-id-4 div.sk-item::before, #sk-container-id-4 div.sk-parallel-item::before {content: \"\";position: absolute;border-left: 1px solid gray;box-sizing: border-box;top: 0;bottom: 0;left: 50%;z-index: -1;}#sk-container-id-4 div.sk-parallel-item {display: flex;flex-direction: column;z-index: 1;position: relative;background-color: white;}#sk-container-id-4 div.sk-parallel-item:first-child::after {align-self: flex-end;width: 50%;}#sk-container-id-4 div.sk-parallel-item:last-child::after {align-self: flex-start;width: 50%;}#sk-container-id-4 div.sk-parallel-item:only-child::after {width: 0;}#sk-container-id-4 div.sk-dashed-wrapped {border: 1px dashed gray;margin: 0 0.4em 0.5em 0.4em;box-sizing: border-box;padding-bottom: 0.4em;background-color: white;}#sk-container-id-4 div.sk-label label {font-family: monospace;font-weight: bold;display: inline-block;line-height: 1.2em;}#sk-container-id-4 div.sk-label-container {text-align: center;}#sk-container-id-4 div.sk-container {/* jupyter's `normalize.less` sets `[hidden] { display: none; }` but bootstrap.min.css set `[hidden] { display: none !important; }` so we also need the `!important` here to be able to override the default hidden behavior on the sphinx rendered scikit-learn.org. See: https://github.com/scikit-learn/scikit-learn/issues/21755 */display: inline-block !important;position: relative;}#sk-container-id-4 div.sk-text-repr-fallback {display: none;}</style><div id=\"sk-container-id-4\" class=\"sk-top-container\"><div class=\"sk-text-repr-fallback\"><pre>Ridge(alpha=0.5)</pre><b>In a Jupyter environment, please rerun this cell to show the HTML representation or trust the notebook. <br />On GitHub, the HTML representation is unable to render, please try loading this page with nbviewer.org.</b></div><div class=\"sk-container\" hidden><div class=\"sk-item\"><div class=\"sk-estimator sk-toggleable\"><input class=\"sk-toggleable__control sk-hidden--visually\" id=\"sk-estimator-id-6\" type=\"checkbox\" checked><label for=\"sk-estimator-id-6\" class=\"sk-toggleable__label sk-toggleable__label-arrow\">Ridge</label><div class=\"sk-toggleable__content\"><pre>Ridge(alpha=0.5)</pre></div></div></div></div></div>"
      ],
      "text/plain": [
       "Ridge(alpha=0.5)"
      ]
     },
     "execution_count": 191,
     "metadata": {},
     "output_type": "execute_result"
    }
   ],
   "source": [
    "Ridge.fit(X_train, y_train)"
   ]
  },
  {
   "cell_type": "code",
   "execution_count": 193,
   "metadata": {
    "colab": {
     "base_uri": "https://localhost:8080/"
    },
    "id": "0eZaoYCP2rbG",
    "outputId": "687f0255-6564-4ce5-d39f-dd6582f42c04"
   },
   "outputs": [
    {
     "name": "stdout",
     "output_type": "stream",
     "text": [
      "The R-squared value is: 0.6126 \n",
      "\n"
     ]
    }
   ],
   "source": [
    "print(\"The R-squared value is: {0:0.4f} \\n\".format(Ridge.score(X_train, y_train)))"
   ]
  },
  {
   "cell_type": "code",
   "execution_count": 195,
   "metadata": {
    "colab": {
     "base_uri": "https://localhost:8080/"
    },
    "id": "9PjFkJ9827aH",
    "outputId": "8f15e74f-186d-4501-cea2-a833e3ec3c9e"
   },
   "outputs": [
    {
     "name": "stdout",
     "output_type": "stream",
     "text": [
      "        Coef    Features\n",
      "0 -37.021351   intercept\n",
      "1   0.448593      MedInc\n",
      "2   0.009725    HouseAge\n",
      "3  -0.123169    AveRooms\n",
      "4   0.782280   AveBedrms\n",
      "5  -0.000002  Population\n",
      "6  -0.003526    AveOccup\n",
      "7  -0.419790    Latitude\n",
      "8  -0.433694   Longitude\n"
     ]
    }
   ],
   "source": [
    "param_df = pd.DataFrame({\"Features\": ['intercept'] + list(feature_names), \n",
    "\"Coef\": [Ridge.intercept_] + list(Ridge.coef_)}) \n",
    "cols = param_df.columns.tolist() \n",
    "cols = cols[-1:]+cols[:-1] \n",
    "param_df = param_df[cols] \n",
    "print(param_df)"
   ]
  },
  {
   "cell_type": "code",
   "execution_count": 197,
   "metadata": {
    "id": "B1hvLrF23kkx"
   },
   "outputs": [],
   "source": [
    "predicted_Ridge = Ridge.predict(X_test)"
   ]
  },
  {
   "cell_type": "code",
   "execution_count": 205,
   "metadata": {
    "id": "9Z22Htd036Cz"
   },
   "outputs": [],
   "source": [
    "mae = np.mean(abs(predicted_Ridge-y_test))\n",
    "rmse = np.sqrt(np.mean((predicted_Ridge-y_test)**2))\n",
    "rae = np.mean(abs(predicted_Ridge-y_test))/np.mean(abs(y_test-np.mean(y_test)))\n",
    "rse = np.mean((predicted_Ridge-y_test)**2)/np.mean((y_test-np.mean(y_test))**2)"
   ]
  },
  {
   "cell_type": "markdown",
   "metadata": {
    "id": "QWpmyfdlUwQN"
   },
   "source": [
    "## Lasso"
   ]
  },
  {
   "cell_type": "markdown",
   "metadata": {},
   "source": [
    "**`Lasso-регуляризация (Least Absolute Shrinkage and Selection Operator)`** — это метод регуляризации, используемый в линейных моделях, который добавляет L1-регуляризацию. В отличие от Ridge-регуляризации, которая использует L2-регуляризацию, Lasso-регуляризация добавляет штраф к сумме абсолютных значений коэффициентов признаков, а не к их квадратам."
   ]
  },
  {
   "cell_type": "markdown",
   "metadata": {},
   "source": [
    "<b>Особенности Lasso-регуляризации</b><br>\n",
    "Lasso-регуляризация помогает модели в решении двух основных задач:\n",
    "\n",
    "1. Уменьшение переобучения — как и другие методы регуляризации, она ограничивает величину коэффициентов, что делает модель более устойчивой.\n",
    "2. Отбор признаков — в отличие от Ridge-регуляризации, Lasso может занулять некоторые коэффициенты, полностью исключая соответствующие признаки из модели. Это делает Lasso полезной для отбора признаков, так как модель автоматически оставляет только наиболее значимые признаки, зануляя остальные."
   ]
  },
  {
   "cell_type": "markdown",
   "metadata": {},
   "source": [
    "<b>Когда использовать Lasso-регуляризацию?</b>\n",
    "- Когда необходимо не только уменьшить переобучение, но и выполнить отбор признаков.\n",
    "- Когда у модели слишком много признаков, и нужно отобрать только те, которые действительно важны для предсказаний.\n",
    "- Когда есть подозрение, что некоторые признаки незначимы или сильно коррелируют с другими признаками."
   ]
  },
  {
   "cell_type": "markdown",
   "metadata": {},
   "source": [
    "- alpha=0.1: Параметр регуляризации, который контролирует степень воздействия L1-регуляризации на модель."
   ]
  },
  {
   "cell_type": "code",
   "execution_count": 209,
   "metadata": {
    "colab": {
     "base_uri": "https://localhost:8080/"
    },
    "id": "4aVR17n8U5GP",
    "outputId": "ead3ded0-178d-4760-96b7-e6c27bfb61e3"
   },
   "outputs": [
    {
     "name": "stdout",
     "output_type": "stream",
     "text": [
      "The R-squared value is: 0.5489 \n",
      "\n",
      "       Coef    Features\n",
      "0 -7.698845   intercept\n",
      "1  0.392693      MedInc\n",
      "2  0.015081    HouseAge\n",
      "3 -0.000000    AveRooms\n",
      "4  0.000000   AveBedrms\n",
      "5  0.000016  Population\n",
      "6 -0.003149    AveOccup\n",
      "7 -0.114291    Latitude\n",
      "8 -0.099308   Longitude\n"
     ]
    }
   ],
   "source": [
    "Lasso = linear_model.Lasso(alpha=0.1)\n",
    "Lasso.fit(X_train, y_train)\n",
    "print(\"The R-squared value is: {0:0.4f} \\n\".format(Lasso.score(X_train, y_train)))\n",
    "param_df = pd.DataFrame({\"Features\": ['intercept'] + list(feature_names), \n",
    "\"Coef\": [Lasso.intercept_] + list(Lasso.coef_)}) \n",
    "cols = param_df.columns.tolist() \n",
    "cols = cols[-1:]+cols[:-1] \n",
    "param_df = param_df[cols] \n",
    "print(param_df)"
   ]
  },
  {
   "cell_type": "markdown",
   "metadata": {
    "id": "_kcX0mEeWnhe"
   },
   "source": [
    "## ElasticNetCV"
   ]
  },
  {
   "cell_type": "markdown",
   "metadata": {},
   "source": [
    "**`ElasticNetCV`**— это модель регуляризации, которая объединяет свойства Lasso и Ridge регрессии, используя L1 и L2 регуляризации одновременно. В отличие от обычной ElasticNet, ElasticNetCV выполняет кросс-валидацию для подбора оптимальных значений гиперпараметров регуляризации."
   ]
  },
  {
   "cell_type": "markdown",
   "metadata": {},
   "source": [
    "### Преимущества и недостатки ElasticNetCV\n",
    "Преимущества:\n",
    "\n",
    "- Автоматический отбор признаков: Зануляет коэффициенты для некоторых признаков, если они менее значимы, как в Lasso.\n",
    "- Гибкость регуляризации: ElasticNet позволяет комбинировать L1 и L2 регуляризацию, адаптируясь к особенностям данных.\n",
    "- Кросс-валидация: ElasticNetCV автоматически подбирает лучшие значения параметров для конкретных данных. "
   ]
  },
  {
   "cell_type": "markdown",
   "metadata": {},
   "source": [
    "Недостатки:\n",
    "\n",
    "- Чувствительность к гиперпараметрам: Несмотря на то, что ElasticNetCV находит оптимальные значения alpha и l1_ratio, на большом количестве данных и признаков настройка может быть вычислительно затратной.\n",
    "- Подходит только для линейных моделей: Как и Lasso и Ridge, ElasticNet применим только к задачам с линейными зависимостями."
   ]
  },
  {
   "cell_type": "markdown",
   "metadata": {},
   "source": [
    "- cv=10: Указывает количество фолдов для кросс-валидации. В данном случае используется 10-кратная кросс-валидация. Это значит, что данные будут разбиты на 10 частей (фолдов), и на каждом фолде модель будет обучаться на 9 частях данных и проверяться на оставшейся части. Среднее значение ошибки по всем 10 фолдам используется для выбора оптимальных значений alpha и l1_ratio.\n",
    "\n",
    "- random_state=0: Устанавливает начальное состояние для генератора случайных чисел, чтобы результат кросс-валидации был воспроизводимым. Это полезно для консистентности результатов при каждом запуске кода, так как случайное разбиение данных будет одинаковым при каждом повторении."
   ]
  },
  {
   "cell_type": "code",
   "execution_count": 215,
   "metadata": {
    "colab": {
     "base_uri": "https://localhost:8080/"
    },
    "id": "8T76mccFXSOP",
    "outputId": "35c38aef-8bad-4610-bd4d-aed63f1d7426"
   },
   "outputs": [
    {
     "name": "stdout",
     "output_type": "stream",
     "text": [
      "The R-squared value is: 0.5886 \n",
      "\n",
      "        Coef    Features\n",
      "0 -24.350691   intercept\n",
      "1   0.385658      MedInc\n",
      "2   0.012050    HouseAge\n",
      "3   0.000000    AveRooms\n",
      "4   0.000000   AveBedrms\n",
      "5   0.000004  Population\n",
      "6  -0.003296    AveOccup\n",
      "7  -0.296449    Latitude\n",
      "8  -0.293957   Longitude\n"
     ]
    }
   ],
   "source": [
    "from sklearn.linear_model import ElasticNetCV\n",
    "ElasticNetCV = ElasticNetCV(cv=10, random_state=0)\n",
    "ElasticNetCV.fit(X_train, y_train)\n",
    "print(\"The R-squared value is: {0:0.4f} \\n\".format(ElasticNetCV.score(X_train, y_train)))\n",
    "param_df = pd.DataFrame({\"Features\": ['intercept'] + list(feature_names), \n",
    "\"Coef\": [ElasticNetCV.intercept_] + list(ElasticNetCV.coef_)}) \n",
    "cols = param_df.columns.tolist() \n",
    "cols = cols[-1:]+cols[:-1] \n",
    "param_df = param_df[cols] \n",
    "print(param_df)"
   ]
  },
  {
   "cell_type": "markdown",
   "metadata": {
    "id": "Ie9d6so-UvZT"
   },
   "source": [
    "# SGD (стохастический градиентный спуск)"
   ]
  },
  {
   "cell_type": "markdown",
   "metadata": {},
   "source": [
    "**`Стохастический градиентный спуск (Stochastic Gradient Descent, SGD)`** — это популярный метод оптимизации, используемый для обучения моделей машинного обучения, особенно в задачах линейной регрессии, логистической регрессии и нейронных сетей. Этот метод является разновидностью градиентного спуска, которая ускоряет процесс обучения, делая обновление параметров модели на основе случайного подмножества данных (батча), а не на всём тренировочном наборе данных."
   ]
  },
  {
   "cell_type": "markdown",
   "metadata": {},
   "source": [
    "### Преимущества и недостатки SGD\n",
    "Преимущества:\n",
    "- Скорость и эффективность: Поскольку SGD обновляет параметры на основе одного (или небольшого количества) примера, он требует меньше вычислений и быстрее работает на больших наборах данных.\n",
    "- Шум и рандомизация: Шум в оценках градиента может помочь выбрать более удачный путь к оптимуму, позволяя алгоритму избежать локальных минимумов.\n",
    "- Гибкость и масштабируемость: Подходит для огромных наборов данных, так как требует меньшего объёма памяти.\n"
   ]
  },
  {
   "cell_type": "markdown",
   "metadata": {},
   "source": [
    "Недостатки:\n",
    "- Сходится медленнее и менее стабильно: Из-за использования только одного образца данных на итерацию обновления параметров могут \"скакать\", из-за чего алгоритм сходится медленно и менее стабильно.\n",
    "- Чувствительность к скорости обучения: Выбор подходящего значения для скорости обучения η критичен. Слишком высокое значение приведёт к нестабильности, а слишком низкое замедлит сходимость.\n",
    "- Не всегда достигает глобального минимума: Стохастичность в процессе обновления градиента может не позволить алгоритму достичь истинного минимума функции потерь."
   ]
  },
  {
   "cell_type": "markdown",
   "metadata": {},
   "source": [
    "### Варианты стохастического градиентного спуска\n",
    "Существуют улучшенные методы, которые уменьшают недостатки базового SGD:\n",
    "\n",
    "- Mini-Batch Gradient Descent: Обновляет параметры на основе небольших батчей (подмножества данных) вместо одного примера. Это уменьшает шум и делает процесс более стабильным.\n",
    "- Momentum (моментум): Добавляет инерцию, помогая сглаживать и ускорять процесс оптимизации.\n",
    "- AdaGrad, RMSProp и Adam: Это адаптивные методы, которые динамически изменяют скорость обучения для каждого параметра, ускоряя сходимость и улучшая стабильность."
   ]
  },
  {
   "cell_type": "code",
   "execution_count": 219,
   "metadata": {
    "id": "ixsRD3QtUL7W"
   },
   "outputs": [],
   "source": [
    "import numpy as np\n",
    "from sklearn.linear_model import SGDRegressor\n",
    "from sklearn.pipeline import make_pipeline\n",
    "from sklearn.preprocessing import StandardScaler"
   ]
  },
  {
   "cell_type": "markdown",
   "metadata": {},
   "source": [
    "- max_iter=1000: Максимальное количество итераций.\n",
    "- tol=1e-3: Критерий для остановки, если изменения в потере становятся меньше 0.001."
   ]
  },
  {
   "cell_type": "code",
   "execution_count": 221,
   "metadata": {
    "colab": {
     "base_uri": "https://localhost:8080/"
    },
    "id": "nZJXaFGPUuCN",
    "outputId": "99d5ff88-42c7-4afd-d98c-10cb206e075e"
   },
   "outputs": [
    {
     "data": {
      "text/html": [
       "<style>#sk-container-id-5 {color: black;background-color: white;}#sk-container-id-5 pre{padding: 0;}#sk-container-id-5 div.sk-toggleable {background-color: white;}#sk-container-id-5 label.sk-toggleable__label {cursor: pointer;display: block;width: 100%;margin-bottom: 0;padding: 0.3em;box-sizing: border-box;text-align: center;}#sk-container-id-5 label.sk-toggleable__label-arrow:before {content: \"▸\";float: left;margin-right: 0.25em;color: #696969;}#sk-container-id-5 label.sk-toggleable__label-arrow:hover:before {color: black;}#sk-container-id-5 div.sk-estimator:hover label.sk-toggleable__label-arrow:before {color: black;}#sk-container-id-5 div.sk-toggleable__content {max-height: 0;max-width: 0;overflow: hidden;text-align: left;background-color: #f0f8ff;}#sk-container-id-5 div.sk-toggleable__content pre {margin: 0.2em;color: black;border-radius: 0.25em;background-color: #f0f8ff;}#sk-container-id-5 input.sk-toggleable__control:checked~div.sk-toggleable__content {max-height: 200px;max-width: 100%;overflow: auto;}#sk-container-id-5 input.sk-toggleable__control:checked~label.sk-toggleable__label-arrow:before {content: \"▾\";}#sk-container-id-5 div.sk-estimator input.sk-toggleable__control:checked~label.sk-toggleable__label {background-color: #d4ebff;}#sk-container-id-5 div.sk-label input.sk-toggleable__control:checked~label.sk-toggleable__label {background-color: #d4ebff;}#sk-container-id-5 input.sk-hidden--visually {border: 0;clip: rect(1px 1px 1px 1px);clip: rect(1px, 1px, 1px, 1px);height: 1px;margin: -1px;overflow: hidden;padding: 0;position: absolute;width: 1px;}#sk-container-id-5 div.sk-estimator {font-family: monospace;background-color: #f0f8ff;border: 1px dotted black;border-radius: 0.25em;box-sizing: border-box;margin-bottom: 0.5em;}#sk-container-id-5 div.sk-estimator:hover {background-color: #d4ebff;}#sk-container-id-5 div.sk-parallel-item::after {content: \"\";width: 100%;border-bottom: 1px solid gray;flex-grow: 1;}#sk-container-id-5 div.sk-label:hover label.sk-toggleable__label {background-color: #d4ebff;}#sk-container-id-5 div.sk-serial::before {content: \"\";position: absolute;border-left: 1px solid gray;box-sizing: border-box;top: 0;bottom: 0;left: 50%;z-index: 0;}#sk-container-id-5 div.sk-serial {display: flex;flex-direction: column;align-items: center;background-color: white;padding-right: 0.2em;padding-left: 0.2em;position: relative;}#sk-container-id-5 div.sk-item {position: relative;z-index: 1;}#sk-container-id-5 div.sk-parallel {display: flex;align-items: stretch;justify-content: center;background-color: white;position: relative;}#sk-container-id-5 div.sk-item::before, #sk-container-id-5 div.sk-parallel-item::before {content: \"\";position: absolute;border-left: 1px solid gray;box-sizing: border-box;top: 0;bottom: 0;left: 50%;z-index: -1;}#sk-container-id-5 div.sk-parallel-item {display: flex;flex-direction: column;z-index: 1;position: relative;background-color: white;}#sk-container-id-5 div.sk-parallel-item:first-child::after {align-self: flex-end;width: 50%;}#sk-container-id-5 div.sk-parallel-item:last-child::after {align-self: flex-start;width: 50%;}#sk-container-id-5 div.sk-parallel-item:only-child::after {width: 0;}#sk-container-id-5 div.sk-dashed-wrapped {border: 1px dashed gray;margin: 0 0.4em 0.5em 0.4em;box-sizing: border-box;padding-bottom: 0.4em;background-color: white;}#sk-container-id-5 div.sk-label label {font-family: monospace;font-weight: bold;display: inline-block;line-height: 1.2em;}#sk-container-id-5 div.sk-label-container {text-align: center;}#sk-container-id-5 div.sk-container {/* jupyter's `normalize.less` sets `[hidden] { display: none; }` but bootstrap.min.css set `[hidden] { display: none !important; }` so we also need the `!important` here to be able to override the default hidden behavior on the sphinx rendered scikit-learn.org. See: https://github.com/scikit-learn/scikit-learn/issues/21755 */display: inline-block !important;position: relative;}#sk-container-id-5 div.sk-text-repr-fallback {display: none;}</style><div id=\"sk-container-id-5\" class=\"sk-top-container\"><div class=\"sk-text-repr-fallback\"><pre>Pipeline(steps=[(&#x27;standardscaler&#x27;, StandardScaler()),\n",
       "                (&#x27;sgdregressor&#x27;, SGDRegressor())])</pre><b>In a Jupyter environment, please rerun this cell to show the HTML representation or trust the notebook. <br />On GitHub, the HTML representation is unable to render, please try loading this page with nbviewer.org.</b></div><div class=\"sk-container\" hidden><div class=\"sk-item sk-dashed-wrapped\"><div class=\"sk-label-container\"><div class=\"sk-label sk-toggleable\"><input class=\"sk-toggleable__control sk-hidden--visually\" id=\"sk-estimator-id-7\" type=\"checkbox\" ><label for=\"sk-estimator-id-7\" class=\"sk-toggleable__label sk-toggleable__label-arrow\">Pipeline</label><div class=\"sk-toggleable__content\"><pre>Pipeline(steps=[(&#x27;standardscaler&#x27;, StandardScaler()),\n",
       "                (&#x27;sgdregressor&#x27;, SGDRegressor())])</pre></div></div></div><div class=\"sk-serial\"><div class=\"sk-item\"><div class=\"sk-estimator sk-toggleable\"><input class=\"sk-toggleable__control sk-hidden--visually\" id=\"sk-estimator-id-8\" type=\"checkbox\" ><label for=\"sk-estimator-id-8\" class=\"sk-toggleable__label sk-toggleable__label-arrow\">StandardScaler</label><div class=\"sk-toggleable__content\"><pre>StandardScaler()</pre></div></div></div><div class=\"sk-item\"><div class=\"sk-estimator sk-toggleable\"><input class=\"sk-toggleable__control sk-hidden--visually\" id=\"sk-estimator-id-9\" type=\"checkbox\" ><label for=\"sk-estimator-id-9\" class=\"sk-toggleable__label sk-toggleable__label-arrow\">SGDRegressor</label><div class=\"sk-toggleable__content\"><pre>SGDRegressor()</pre></div></div></div></div></div></div></div>"
      ],
      "text/plain": [
       "Pipeline(steps=[('standardscaler', StandardScaler()),\n",
       "                ('sgdregressor', SGDRegressor())])"
      ]
     },
     "execution_count": 221,
     "metadata": {},
     "output_type": "execute_result"
    }
   ],
   "source": [
    "SGD = make_pipeline(StandardScaler(),\n",
    "...                     SGDRegressor(max_iter=1000, tol=1e-3))\n",
    "SGD.fit(X_train, y_train)"
   ]
  },
  {
   "cell_type": "code",
   "execution_count": 223,
   "metadata": {
    "colab": {
     "base_uri": "https://localhost:8080/"
    },
    "id": "uX0U0kbCUtxz",
    "outputId": "fc74f2bc-ef77-45f5-f988-478dc375387e"
   },
   "outputs": [
    {
     "name": "stdout",
     "output_type": "stream",
     "text": [
      "The R-squared value is: 0.6082 \n",
      "\n"
     ]
    }
   ],
   "source": [
    "print(\"The R-squared value is: {0:0.4f} \\n\".format(SGD.score(X_train, y_train)))"
   ]
  },
  {
   "cell_type": "code",
   "execution_count": null,
   "metadata": {},
   "outputs": [],
   "source": []
  },
  {
   "cell_type": "code",
   "execution_count": null,
   "metadata": {},
   "outputs": [],
   "source": []
  }
 ],
 "metadata": {
  "colab": {
   "collapsed_sections": [],
   "name": "Boston_sklearn_выбор признаков_1.ipynb\"\"",
   "provenance": []
  },
  "kernelspec": {
   "display_name": "Python 3 (ipykernel)",
   "language": "python",
   "name": "python3"
  },
  "language_info": {
   "codemirror_mode": {
    "name": "ipython",
    "version": 3
   },
   "file_extension": ".py",
   "mimetype": "text/x-python",
   "name": "python",
   "nbconvert_exporter": "python",
   "pygments_lexer": "ipython3",
   "version": "3.11.7"
  }
 },
 "nbformat": 4,
 "nbformat_minor": 4
}
